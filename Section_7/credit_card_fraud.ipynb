{
 "cells": [
  {
   "cell_type": "code",
   "execution_count": 2,
   "metadata": {},
   "outputs": [],
   "source": [
    "import pandas as pd\n",
    "import numpy as np\n",
    "import matplotlib.pyplot as plt\n",
    "import seaborn as sns\n",
    "import warnings\n",
    "warnings.filterwarnings(\"ignore\")\n",
    "plt.style.use('fivethirtyeight')\n",
    "np.random.seed(777)\n",
    "%matplotlib inline\n",
    "%config InlineBackend.figure_format = 'retina'"
   ]
  },
  {
   "cell_type": "code",
   "execution_count": 3,
   "metadata": {},
   "outputs": [],
   "source": [
    "from tensorflow.keras.models import Sequential\n",
    "from tensorflow.keras.layers import Dense"
   ]
  },
  {
   "cell_type": "markdown",
   "metadata": {},
   "source": [
    "Data: https://www.kaggle.com/mlg-ulb/creditcardfraud"
   ]
  },
  {
   "cell_type": "markdown",
   "metadata": {},
   "source": [
    "## 7.3 Feature engineering and preprocess data for input into the model"
   ]
  },
  {
   "cell_type": "markdown",
   "metadata": {},
   "source": [
    "### Import the data"
   ]
  },
  {
   "cell_type": "code",
   "execution_count": 4,
   "metadata": {},
   "outputs": [],
   "source": [
    "credit_df = pd.read_csv(\"./creditcard.csv\")"
   ]
  },
  {
   "cell_type": "code",
   "execution_count": 5,
   "metadata": {},
   "outputs": [
    {
     "name": "stdout",
     "output_type": "stream",
     "text": [
      "<class 'pandas.core.frame.DataFrame'>\n",
      "RangeIndex: 284807 entries, 0 to 284806\n",
      "Data columns (total 31 columns):\n",
      "Time      284807 non-null float64\n",
      "V1        284807 non-null float64\n",
      "V2        284807 non-null float64\n",
      "V3        284807 non-null float64\n",
      "V4        284807 non-null float64\n",
      "V5        284807 non-null float64\n",
      "V6        284807 non-null float64\n",
      "V7        284807 non-null float64\n",
      "V8        284807 non-null float64\n",
      "V9        284807 non-null float64\n",
      "V10       284807 non-null float64\n",
      "V11       284807 non-null float64\n",
      "V12       284807 non-null float64\n",
      "V13       284807 non-null float64\n",
      "V14       284807 non-null float64\n",
      "V15       284807 non-null float64\n",
      "V16       284807 non-null float64\n",
      "V17       284807 non-null float64\n",
      "V18       284807 non-null float64\n",
      "V19       284807 non-null float64\n",
      "V20       284807 non-null float64\n",
      "V21       284807 non-null float64\n",
      "V22       284807 non-null float64\n",
      "V23       284807 non-null float64\n",
      "V24       284807 non-null float64\n",
      "V25       284807 non-null float64\n",
      "V26       284807 non-null float64\n",
      "V27       284807 non-null float64\n",
      "V28       284807 non-null float64\n",
      "Amount    284807 non-null float64\n",
      "Class     284807 non-null int64\n",
      "dtypes: float64(30), int64(1)\n",
      "memory usage: 67.4 MB\n"
     ]
    }
   ],
   "source": [
    "credit_df.info()"
   ]
  },
  {
   "cell_type": "code",
   "execution_count": 6,
   "metadata": {},
   "outputs": [
    {
     "data": {
      "text/html": [
       "<div>\n",
       "<style scoped>\n",
       "    .dataframe tbody tr th:only-of-type {\n",
       "        vertical-align: middle;\n",
       "    }\n",
       "\n",
       "    .dataframe tbody tr th {\n",
       "        vertical-align: top;\n",
       "    }\n",
       "\n",
       "    .dataframe thead th {\n",
       "        text-align: right;\n",
       "    }\n",
       "</style>\n",
       "<table border=\"1\" class=\"dataframe\">\n",
       "  <thead>\n",
       "    <tr style=\"text-align: right;\">\n",
       "      <th></th>\n",
       "      <th>Time</th>\n",
       "      <th>V1</th>\n",
       "      <th>V2</th>\n",
       "      <th>V3</th>\n",
       "      <th>V4</th>\n",
       "      <th>V5</th>\n",
       "      <th>V6</th>\n",
       "      <th>V7</th>\n",
       "      <th>V8</th>\n",
       "      <th>V9</th>\n",
       "      <th>...</th>\n",
       "      <th>V21</th>\n",
       "      <th>V22</th>\n",
       "      <th>V23</th>\n",
       "      <th>V24</th>\n",
       "      <th>V25</th>\n",
       "      <th>V26</th>\n",
       "      <th>V27</th>\n",
       "      <th>V28</th>\n",
       "      <th>Amount</th>\n",
       "      <th>Class</th>\n",
       "    </tr>\n",
       "  </thead>\n",
       "  <tbody>\n",
       "    <tr>\n",
       "      <th>0</th>\n",
       "      <td>0.0</td>\n",
       "      <td>-1.359807</td>\n",
       "      <td>-0.072781</td>\n",
       "      <td>2.536347</td>\n",
       "      <td>1.378155</td>\n",
       "      <td>-0.338321</td>\n",
       "      <td>0.462388</td>\n",
       "      <td>0.239599</td>\n",
       "      <td>0.098698</td>\n",
       "      <td>0.363787</td>\n",
       "      <td>...</td>\n",
       "      <td>-0.018307</td>\n",
       "      <td>0.277838</td>\n",
       "      <td>-0.110474</td>\n",
       "      <td>0.066928</td>\n",
       "      <td>0.128539</td>\n",
       "      <td>-0.189115</td>\n",
       "      <td>0.133558</td>\n",
       "      <td>-0.021053</td>\n",
       "      <td>149.62</td>\n",
       "      <td>0</td>\n",
       "    </tr>\n",
       "    <tr>\n",
       "      <th>1</th>\n",
       "      <td>0.0</td>\n",
       "      <td>1.191857</td>\n",
       "      <td>0.266151</td>\n",
       "      <td>0.166480</td>\n",
       "      <td>0.448154</td>\n",
       "      <td>0.060018</td>\n",
       "      <td>-0.082361</td>\n",
       "      <td>-0.078803</td>\n",
       "      <td>0.085102</td>\n",
       "      <td>-0.255425</td>\n",
       "      <td>...</td>\n",
       "      <td>-0.225775</td>\n",
       "      <td>-0.638672</td>\n",
       "      <td>0.101288</td>\n",
       "      <td>-0.339846</td>\n",
       "      <td>0.167170</td>\n",
       "      <td>0.125895</td>\n",
       "      <td>-0.008983</td>\n",
       "      <td>0.014724</td>\n",
       "      <td>2.69</td>\n",
       "      <td>0</td>\n",
       "    </tr>\n",
       "    <tr>\n",
       "      <th>2</th>\n",
       "      <td>1.0</td>\n",
       "      <td>-1.358354</td>\n",
       "      <td>-1.340163</td>\n",
       "      <td>1.773209</td>\n",
       "      <td>0.379780</td>\n",
       "      <td>-0.503198</td>\n",
       "      <td>1.800499</td>\n",
       "      <td>0.791461</td>\n",
       "      <td>0.247676</td>\n",
       "      <td>-1.514654</td>\n",
       "      <td>...</td>\n",
       "      <td>0.247998</td>\n",
       "      <td>0.771679</td>\n",
       "      <td>0.909412</td>\n",
       "      <td>-0.689281</td>\n",
       "      <td>-0.327642</td>\n",
       "      <td>-0.139097</td>\n",
       "      <td>-0.055353</td>\n",
       "      <td>-0.059752</td>\n",
       "      <td>378.66</td>\n",
       "      <td>0</td>\n",
       "    </tr>\n",
       "    <tr>\n",
       "      <th>3</th>\n",
       "      <td>1.0</td>\n",
       "      <td>-0.966272</td>\n",
       "      <td>-0.185226</td>\n",
       "      <td>1.792993</td>\n",
       "      <td>-0.863291</td>\n",
       "      <td>-0.010309</td>\n",
       "      <td>1.247203</td>\n",
       "      <td>0.237609</td>\n",
       "      <td>0.377436</td>\n",
       "      <td>-1.387024</td>\n",
       "      <td>...</td>\n",
       "      <td>-0.108300</td>\n",
       "      <td>0.005274</td>\n",
       "      <td>-0.190321</td>\n",
       "      <td>-1.175575</td>\n",
       "      <td>0.647376</td>\n",
       "      <td>-0.221929</td>\n",
       "      <td>0.062723</td>\n",
       "      <td>0.061458</td>\n",
       "      <td>123.50</td>\n",
       "      <td>0</td>\n",
       "    </tr>\n",
       "    <tr>\n",
       "      <th>4</th>\n",
       "      <td>2.0</td>\n",
       "      <td>-1.158233</td>\n",
       "      <td>0.877737</td>\n",
       "      <td>1.548718</td>\n",
       "      <td>0.403034</td>\n",
       "      <td>-0.407193</td>\n",
       "      <td>0.095921</td>\n",
       "      <td>0.592941</td>\n",
       "      <td>-0.270533</td>\n",
       "      <td>0.817739</td>\n",
       "      <td>...</td>\n",
       "      <td>-0.009431</td>\n",
       "      <td>0.798278</td>\n",
       "      <td>-0.137458</td>\n",
       "      <td>0.141267</td>\n",
       "      <td>-0.206010</td>\n",
       "      <td>0.502292</td>\n",
       "      <td>0.219422</td>\n",
       "      <td>0.215153</td>\n",
       "      <td>69.99</td>\n",
       "      <td>0</td>\n",
       "    </tr>\n",
       "  </tbody>\n",
       "</table>\n",
       "<p>5 rows × 31 columns</p>\n",
       "</div>"
      ],
      "text/plain": [
       "   Time        V1        V2        V3        V4        V5        V6        V7  \\\n",
       "0   0.0 -1.359807 -0.072781  2.536347  1.378155 -0.338321  0.462388  0.239599   \n",
       "1   0.0  1.191857  0.266151  0.166480  0.448154  0.060018 -0.082361 -0.078803   \n",
       "2   1.0 -1.358354 -1.340163  1.773209  0.379780 -0.503198  1.800499  0.791461   \n",
       "3   1.0 -0.966272 -0.185226  1.792993 -0.863291 -0.010309  1.247203  0.237609   \n",
       "4   2.0 -1.158233  0.877737  1.548718  0.403034 -0.407193  0.095921  0.592941   \n",
       "\n",
       "         V8        V9  ...       V21       V22       V23       V24       V25  \\\n",
       "0  0.098698  0.363787  ... -0.018307  0.277838 -0.110474  0.066928  0.128539   \n",
       "1  0.085102 -0.255425  ... -0.225775 -0.638672  0.101288 -0.339846  0.167170   \n",
       "2  0.247676 -1.514654  ...  0.247998  0.771679  0.909412 -0.689281 -0.327642   \n",
       "3  0.377436 -1.387024  ... -0.108300  0.005274 -0.190321 -1.175575  0.647376   \n",
       "4 -0.270533  0.817739  ... -0.009431  0.798278 -0.137458  0.141267 -0.206010   \n",
       "\n",
       "        V26       V27       V28  Amount  Class  \n",
       "0 -0.189115  0.133558 -0.021053  149.62      0  \n",
       "1  0.125895 -0.008983  0.014724    2.69      0  \n",
       "2 -0.139097 -0.055353 -0.059752  378.66      0  \n",
       "3 -0.221929  0.062723  0.061458  123.50      0  \n",
       "4  0.502292  0.219422  0.215153   69.99      0  \n",
       "\n",
       "[5 rows x 31 columns]"
      ]
     },
     "execution_count": 6,
     "metadata": {},
     "output_type": "execute_result"
    }
   ],
   "source": [
    "credit_df.head()"
   ]
  },
  {
   "cell_type": "code",
   "execution_count": 7,
   "metadata": {},
   "outputs": [
    {
     "data": {
      "text/html": [
       "<div>\n",
       "<style scoped>\n",
       "    .dataframe tbody tr th:only-of-type {\n",
       "        vertical-align: middle;\n",
       "    }\n",
       "\n",
       "    .dataframe tbody tr th {\n",
       "        vertical-align: top;\n",
       "    }\n",
       "\n",
       "    .dataframe thead th {\n",
       "        text-align: right;\n",
       "    }\n",
       "</style>\n",
       "<table border=\"1\" class=\"dataframe\">\n",
       "  <thead>\n",
       "    <tr style=\"text-align: right;\">\n",
       "      <th></th>\n",
       "      <th>Time</th>\n",
       "      <th>V1</th>\n",
       "      <th>V2</th>\n",
       "      <th>V3</th>\n",
       "      <th>V4</th>\n",
       "      <th>V5</th>\n",
       "      <th>V6</th>\n",
       "      <th>V7</th>\n",
       "      <th>V8</th>\n",
       "      <th>V9</th>\n",
       "      <th>...</th>\n",
       "      <th>V21</th>\n",
       "      <th>V22</th>\n",
       "      <th>V23</th>\n",
       "      <th>V24</th>\n",
       "      <th>V25</th>\n",
       "      <th>V26</th>\n",
       "      <th>V27</th>\n",
       "      <th>V28</th>\n",
       "      <th>Amount</th>\n",
       "      <th>Class</th>\n",
       "    </tr>\n",
       "  </thead>\n",
       "  <tbody>\n",
       "    <tr>\n",
       "      <th>count</th>\n",
       "      <td>284807.000000</td>\n",
       "      <td>2.848070e+05</td>\n",
       "      <td>2.848070e+05</td>\n",
       "      <td>2.848070e+05</td>\n",
       "      <td>2.848070e+05</td>\n",
       "      <td>2.848070e+05</td>\n",
       "      <td>2.848070e+05</td>\n",
       "      <td>2.848070e+05</td>\n",
       "      <td>2.848070e+05</td>\n",
       "      <td>2.848070e+05</td>\n",
       "      <td>...</td>\n",
       "      <td>2.848070e+05</td>\n",
       "      <td>2.848070e+05</td>\n",
       "      <td>2.848070e+05</td>\n",
       "      <td>2.848070e+05</td>\n",
       "      <td>2.848070e+05</td>\n",
       "      <td>2.848070e+05</td>\n",
       "      <td>2.848070e+05</td>\n",
       "      <td>2.848070e+05</td>\n",
       "      <td>284807.000000</td>\n",
       "      <td>284807.000000</td>\n",
       "    </tr>\n",
       "    <tr>\n",
       "      <th>mean</th>\n",
       "      <td>94813.859575</td>\n",
       "      <td>1.165980e-15</td>\n",
       "      <td>3.416908e-16</td>\n",
       "      <td>-1.373150e-15</td>\n",
       "      <td>2.086869e-15</td>\n",
       "      <td>9.604066e-16</td>\n",
       "      <td>1.490107e-15</td>\n",
       "      <td>-5.556467e-16</td>\n",
       "      <td>1.177556e-16</td>\n",
       "      <td>-2.406455e-15</td>\n",
       "      <td>...</td>\n",
       "      <td>1.656562e-16</td>\n",
       "      <td>-3.444850e-16</td>\n",
       "      <td>2.578648e-16</td>\n",
       "      <td>4.471968e-15</td>\n",
       "      <td>5.340915e-16</td>\n",
       "      <td>1.687098e-15</td>\n",
       "      <td>-3.666453e-16</td>\n",
       "      <td>-1.220404e-16</td>\n",
       "      <td>88.349619</td>\n",
       "      <td>0.001727</td>\n",
       "    </tr>\n",
       "    <tr>\n",
       "      <th>std</th>\n",
       "      <td>47488.145955</td>\n",
       "      <td>1.958696e+00</td>\n",
       "      <td>1.651309e+00</td>\n",
       "      <td>1.516255e+00</td>\n",
       "      <td>1.415869e+00</td>\n",
       "      <td>1.380247e+00</td>\n",
       "      <td>1.332271e+00</td>\n",
       "      <td>1.237094e+00</td>\n",
       "      <td>1.194353e+00</td>\n",
       "      <td>1.098632e+00</td>\n",
       "      <td>...</td>\n",
       "      <td>7.345240e-01</td>\n",
       "      <td>7.257016e-01</td>\n",
       "      <td>6.244603e-01</td>\n",
       "      <td>6.056471e-01</td>\n",
       "      <td>5.212781e-01</td>\n",
       "      <td>4.822270e-01</td>\n",
       "      <td>4.036325e-01</td>\n",
       "      <td>3.300833e-01</td>\n",
       "      <td>250.120109</td>\n",
       "      <td>0.041527</td>\n",
       "    </tr>\n",
       "    <tr>\n",
       "      <th>min</th>\n",
       "      <td>0.000000</td>\n",
       "      <td>-5.640751e+01</td>\n",
       "      <td>-7.271573e+01</td>\n",
       "      <td>-4.832559e+01</td>\n",
       "      <td>-5.683171e+00</td>\n",
       "      <td>-1.137433e+02</td>\n",
       "      <td>-2.616051e+01</td>\n",
       "      <td>-4.355724e+01</td>\n",
       "      <td>-7.321672e+01</td>\n",
       "      <td>-1.343407e+01</td>\n",
       "      <td>...</td>\n",
       "      <td>-3.483038e+01</td>\n",
       "      <td>-1.093314e+01</td>\n",
       "      <td>-4.480774e+01</td>\n",
       "      <td>-2.836627e+00</td>\n",
       "      <td>-1.029540e+01</td>\n",
       "      <td>-2.604551e+00</td>\n",
       "      <td>-2.256568e+01</td>\n",
       "      <td>-1.543008e+01</td>\n",
       "      <td>0.000000</td>\n",
       "      <td>0.000000</td>\n",
       "    </tr>\n",
       "    <tr>\n",
       "      <th>25%</th>\n",
       "      <td>54201.500000</td>\n",
       "      <td>-9.203734e-01</td>\n",
       "      <td>-5.985499e-01</td>\n",
       "      <td>-8.903648e-01</td>\n",
       "      <td>-8.486401e-01</td>\n",
       "      <td>-6.915971e-01</td>\n",
       "      <td>-7.682956e-01</td>\n",
       "      <td>-5.540759e-01</td>\n",
       "      <td>-2.086297e-01</td>\n",
       "      <td>-6.430976e-01</td>\n",
       "      <td>...</td>\n",
       "      <td>-2.283949e-01</td>\n",
       "      <td>-5.423504e-01</td>\n",
       "      <td>-1.618463e-01</td>\n",
       "      <td>-3.545861e-01</td>\n",
       "      <td>-3.171451e-01</td>\n",
       "      <td>-3.269839e-01</td>\n",
       "      <td>-7.083953e-02</td>\n",
       "      <td>-5.295979e-02</td>\n",
       "      <td>5.600000</td>\n",
       "      <td>0.000000</td>\n",
       "    </tr>\n",
       "    <tr>\n",
       "      <th>50%</th>\n",
       "      <td>84692.000000</td>\n",
       "      <td>1.810880e-02</td>\n",
       "      <td>6.548556e-02</td>\n",
       "      <td>1.798463e-01</td>\n",
       "      <td>-1.984653e-02</td>\n",
       "      <td>-5.433583e-02</td>\n",
       "      <td>-2.741871e-01</td>\n",
       "      <td>4.010308e-02</td>\n",
       "      <td>2.235804e-02</td>\n",
       "      <td>-5.142873e-02</td>\n",
       "      <td>...</td>\n",
       "      <td>-2.945017e-02</td>\n",
       "      <td>6.781943e-03</td>\n",
       "      <td>-1.119293e-02</td>\n",
       "      <td>4.097606e-02</td>\n",
       "      <td>1.659350e-02</td>\n",
       "      <td>-5.213911e-02</td>\n",
       "      <td>1.342146e-03</td>\n",
       "      <td>1.124383e-02</td>\n",
       "      <td>22.000000</td>\n",
       "      <td>0.000000</td>\n",
       "    </tr>\n",
       "    <tr>\n",
       "      <th>75%</th>\n",
       "      <td>139320.500000</td>\n",
       "      <td>1.315642e+00</td>\n",
       "      <td>8.037239e-01</td>\n",
       "      <td>1.027196e+00</td>\n",
       "      <td>7.433413e-01</td>\n",
       "      <td>6.119264e-01</td>\n",
       "      <td>3.985649e-01</td>\n",
       "      <td>5.704361e-01</td>\n",
       "      <td>3.273459e-01</td>\n",
       "      <td>5.971390e-01</td>\n",
       "      <td>...</td>\n",
       "      <td>1.863772e-01</td>\n",
       "      <td>5.285536e-01</td>\n",
       "      <td>1.476421e-01</td>\n",
       "      <td>4.395266e-01</td>\n",
       "      <td>3.507156e-01</td>\n",
       "      <td>2.409522e-01</td>\n",
       "      <td>9.104512e-02</td>\n",
       "      <td>7.827995e-02</td>\n",
       "      <td>77.165000</td>\n",
       "      <td>0.000000</td>\n",
       "    </tr>\n",
       "    <tr>\n",
       "      <th>max</th>\n",
       "      <td>172792.000000</td>\n",
       "      <td>2.454930e+00</td>\n",
       "      <td>2.205773e+01</td>\n",
       "      <td>9.382558e+00</td>\n",
       "      <td>1.687534e+01</td>\n",
       "      <td>3.480167e+01</td>\n",
       "      <td>7.330163e+01</td>\n",
       "      <td>1.205895e+02</td>\n",
       "      <td>2.000721e+01</td>\n",
       "      <td>1.559499e+01</td>\n",
       "      <td>...</td>\n",
       "      <td>2.720284e+01</td>\n",
       "      <td>1.050309e+01</td>\n",
       "      <td>2.252841e+01</td>\n",
       "      <td>4.584549e+00</td>\n",
       "      <td>7.519589e+00</td>\n",
       "      <td>3.517346e+00</td>\n",
       "      <td>3.161220e+01</td>\n",
       "      <td>3.384781e+01</td>\n",
       "      <td>25691.160000</td>\n",
       "      <td>1.000000</td>\n",
       "    </tr>\n",
       "  </tbody>\n",
       "</table>\n",
       "<p>8 rows × 31 columns</p>\n",
       "</div>"
      ],
      "text/plain": [
       "                Time            V1            V2            V3            V4  \\\n",
       "count  284807.000000  2.848070e+05  2.848070e+05  2.848070e+05  2.848070e+05   \n",
       "mean    94813.859575  1.165980e-15  3.416908e-16 -1.373150e-15  2.086869e-15   \n",
       "std     47488.145955  1.958696e+00  1.651309e+00  1.516255e+00  1.415869e+00   \n",
       "min         0.000000 -5.640751e+01 -7.271573e+01 -4.832559e+01 -5.683171e+00   \n",
       "25%     54201.500000 -9.203734e-01 -5.985499e-01 -8.903648e-01 -8.486401e-01   \n",
       "50%     84692.000000  1.810880e-02  6.548556e-02  1.798463e-01 -1.984653e-02   \n",
       "75%    139320.500000  1.315642e+00  8.037239e-01  1.027196e+00  7.433413e-01   \n",
       "max    172792.000000  2.454930e+00  2.205773e+01  9.382558e+00  1.687534e+01   \n",
       "\n",
       "                 V5            V6            V7            V8            V9  \\\n",
       "count  2.848070e+05  2.848070e+05  2.848070e+05  2.848070e+05  2.848070e+05   \n",
       "mean   9.604066e-16  1.490107e-15 -5.556467e-16  1.177556e-16 -2.406455e-15   \n",
       "std    1.380247e+00  1.332271e+00  1.237094e+00  1.194353e+00  1.098632e+00   \n",
       "min   -1.137433e+02 -2.616051e+01 -4.355724e+01 -7.321672e+01 -1.343407e+01   \n",
       "25%   -6.915971e-01 -7.682956e-01 -5.540759e-01 -2.086297e-01 -6.430976e-01   \n",
       "50%   -5.433583e-02 -2.741871e-01  4.010308e-02  2.235804e-02 -5.142873e-02   \n",
       "75%    6.119264e-01  3.985649e-01  5.704361e-01  3.273459e-01  5.971390e-01   \n",
       "max    3.480167e+01  7.330163e+01  1.205895e+02  2.000721e+01  1.559499e+01   \n",
       "\n",
       "       ...           V21           V22           V23           V24  \\\n",
       "count  ...  2.848070e+05  2.848070e+05  2.848070e+05  2.848070e+05   \n",
       "mean   ...  1.656562e-16 -3.444850e-16  2.578648e-16  4.471968e-15   \n",
       "std    ...  7.345240e-01  7.257016e-01  6.244603e-01  6.056471e-01   \n",
       "min    ... -3.483038e+01 -1.093314e+01 -4.480774e+01 -2.836627e+00   \n",
       "25%    ... -2.283949e-01 -5.423504e-01 -1.618463e-01 -3.545861e-01   \n",
       "50%    ... -2.945017e-02  6.781943e-03 -1.119293e-02  4.097606e-02   \n",
       "75%    ...  1.863772e-01  5.285536e-01  1.476421e-01  4.395266e-01   \n",
       "max    ...  2.720284e+01  1.050309e+01  2.252841e+01  4.584549e+00   \n",
       "\n",
       "                V25           V26           V27           V28         Amount  \\\n",
       "count  2.848070e+05  2.848070e+05  2.848070e+05  2.848070e+05  284807.000000   \n",
       "mean   5.340915e-16  1.687098e-15 -3.666453e-16 -1.220404e-16      88.349619   \n",
       "std    5.212781e-01  4.822270e-01  4.036325e-01  3.300833e-01     250.120109   \n",
       "min   -1.029540e+01 -2.604551e+00 -2.256568e+01 -1.543008e+01       0.000000   \n",
       "25%   -3.171451e-01 -3.269839e-01 -7.083953e-02 -5.295979e-02       5.600000   \n",
       "50%    1.659350e-02 -5.213911e-02  1.342146e-03  1.124383e-02      22.000000   \n",
       "75%    3.507156e-01  2.409522e-01  9.104512e-02  7.827995e-02      77.165000   \n",
       "max    7.519589e+00  3.517346e+00  3.161220e+01  3.384781e+01   25691.160000   \n",
       "\n",
       "               Class  \n",
       "count  284807.000000  \n",
       "mean        0.001727  \n",
       "std         0.041527  \n",
       "min         0.000000  \n",
       "25%         0.000000  \n",
       "50%         0.000000  \n",
       "75%         0.000000  \n",
       "max         1.000000  \n",
       "\n",
       "[8 rows x 31 columns]"
      ]
     },
     "execution_count": 7,
     "metadata": {},
     "output_type": "execute_result"
    }
   ],
   "source": [
    "credit_df.describe()"
   ]
  },
  {
   "cell_type": "code",
   "execution_count": 8,
   "metadata": {},
   "outputs": [
    {
     "data": {
      "text/plain": [
       "0    284315\n",
       "1       492\n",
       "Name: Class, dtype: int64"
      ]
     },
     "execution_count": 8,
     "metadata": {},
     "output_type": "execute_result"
    }
   ],
   "source": [
    "credit_df.Class.value_counts()"
   ]
  },
  {
   "cell_type": "markdown",
   "metadata": {},
   "source": [
    "Scale the features so as to mitigate the biasness towards one feature"
   ]
  },
  {
   "cell_type": "code",
   "execution_count": 9,
   "metadata": {},
   "outputs": [],
   "source": [
    "from sklearn.model_selection import train_test_split\n",
    "from sklearn.preprocessing import MinMaxScaler"
   ]
  },
  {
   "cell_type": "code",
   "execution_count": 10,
   "metadata": {},
   "outputs": [],
   "source": [
    "X = credit_df.iloc[:,:-1]\n",
    "Y = credit_df.iloc[:,-1]\n",
    "X_train, X_test, Y_train, Y_test = train_test_split(X,Y, test_size=0.2,random_state=100, stratify=Y)"
   ]
  },
  {
   "cell_type": "code",
   "execution_count": 11,
   "metadata": {},
   "outputs": [
    {
     "data": {
      "text/plain": [
       "0    227451\n",
       "1       394\n",
       "Name: Class, dtype: int64"
      ]
     },
     "execution_count": 11,
     "metadata": {},
     "output_type": "execute_result"
    }
   ],
   "source": [
    "Y_train.value_counts()"
   ]
  },
  {
   "cell_type": "code",
   "execution_count": 12,
   "metadata": {},
   "outputs": [
    {
     "data": {
      "text/plain": [
       "0    56864\n",
       "1       98\n",
       "Name: Class, dtype: int64"
      ]
     },
     "execution_count": 12,
     "metadata": {},
     "output_type": "execute_result"
    }
   ],
   "source": [
    "Y_test.value_counts()"
   ]
  },
  {
   "cell_type": "code",
   "execution_count": 13,
   "metadata": {},
   "outputs": [
    {
     "data": {
      "text/plain": [
       "MinMaxScaler(copy=True, feature_range=(0, 1))"
      ]
     },
     "execution_count": 13,
     "metadata": {},
     "output_type": "execute_result"
    }
   ],
   "source": [
    "mmscale = MinMaxScaler()\n",
    "mmscale.fit(X_train)"
   ]
  },
  {
   "cell_type": "code",
   "execution_count": 14,
   "metadata": {},
   "outputs": [],
   "source": [
    "X_train = mmscale.transform(X_train)"
   ]
  },
  {
   "cell_type": "code",
   "execution_count": 15,
   "metadata": {},
   "outputs": [],
   "source": [
    "X_test = mmscale.transform(X_test)"
   ]
  },
  {
   "cell_type": "markdown",
   "metadata": {},
   "source": [
    "### 7.4 Create the model and the optimizer"
   ]
  },
  {
   "cell_type": "code",
   "execution_count": 16,
   "metadata": {},
   "outputs": [],
   "source": [
    "def get_model():\n",
    "    model = Sequential()\n",
    "    model.add(Dense(30,input_shape=(30,), activation='relu'))\n",
    "    model.add(Dense(15, activation='relu'))\n",
    "    model.add(Dense(5, activation='relu'))\n",
    "    model.add(Dense(1, activation='sigmoid'))\n",
    "    print(model.summary())\n",
    "    return model"
   ]
  },
  {
   "cell_type": "code",
   "execution_count": 17,
   "metadata": {},
   "outputs": [
    {
     "name": "stderr",
     "output_type": "stream",
     "text": [
      "WARNING: Logging before flag parsing goes to stderr.\n",
      "W0313 08:05:37.825557 16400 deprecation.py:506] From C:\\Users\\aryan\\.conda\\envs\\deeplearning\\lib\\site-packages\\tensorflow\\python\\ops\\init_ops.py:1251: calling VarianceScaling.__init__ (from tensorflow.python.ops.init_ops) with dtype is deprecated and will be removed in a future version.\n",
      "Instructions for updating:\n",
      "Call initializer instance with the dtype argument instead of passing it to the constructor\n",
      "W0313 08:05:37.974159 16400 deprecation.py:323] From C:\\Users\\aryan\\.conda\\envs\\deeplearning\\lib\\site-packages\\tensorflow\\python\\ops\\nn_impl.py:180: add_dispatch_support.<locals>.wrapper (from tensorflow.python.ops.array_ops) is deprecated and will be removed in a future version.\n",
      "Instructions for updating:\n",
      "Use tf.where in 2.0, which has the same broadcast rule as np.where\n"
     ]
    },
    {
     "name": "stdout",
     "output_type": "stream",
     "text": [
      "Model: \"sequential\"\n",
      "_________________________________________________________________\n",
      "Layer (type)                 Output Shape              Param #   \n",
      "=================================================================\n",
      "dense (Dense)                (None, 30)                930       \n",
      "_________________________________________________________________\n",
      "dense_1 (Dense)              (None, 15)                465       \n",
      "_________________________________________________________________\n",
      "dense_2 (Dense)              (None, 5)                 80        \n",
      "_________________________________________________________________\n",
      "dense_3 (Dense)              (None, 1)                 6         \n",
      "=================================================================\n",
      "Total params: 1,481\n",
      "Trainable params: 1,481\n",
      "Non-trainable params: 0\n",
      "_________________________________________________________________\n",
      "None\n"
     ]
    }
   ],
   "source": [
    "from tensorflow.keras import backend as K\n",
    "\n",
    "def recall_m(y_true, y_pred):\n",
    "    true_positives = K.sum(K.round(K.clip(y_true * y_pred, 0, 1)))\n",
    "    possible_positives = K.sum(K.round(K.clip(y_true, 0, 1)))\n",
    "    recall = true_positives / (possible_positives + K.epsilon())\n",
    "    return recall\n",
    "\n",
    "def precision_m(y_true, y_pred):\n",
    "    true_positives = K.sum(K.round(K.clip(y_true * y_pred, 0, 1)))\n",
    "    predicted_positives = K.sum(K.round(K.clip(y_pred, 0, 1)))\n",
    "    precision = true_positives / (predicted_positives + K.epsilon())\n",
    "    return precision\n",
    "\n",
    "def f1_m(y_true, y_pred):\n",
    "    precision = precision_m(y_true, y_pred)\n",
    "    recall = recall_m(y_true, y_pred)\n",
    "    return 2*((precision*recall)/(precision+recall+K.epsilon()))\n",
    "\n",
    "# get the model\n",
    "model = get_model()\n",
    "\n",
    "# compile the model\n",
    "model.compile(optimizer='RMSProp', loss='binary_crossentropy', metrics=['acc',f1_m,precision_m, recall_m])"
   ]
  },
  {
   "cell_type": "markdown",
   "metadata": {},
   "source": [
    "## 7.5 - Train the model"
   ]
  },
  {
   "cell_type": "code",
   "execution_count": 18,
   "metadata": {},
   "outputs": [
    {
     "name": "stdout",
     "output_type": "stream",
     "text": [
      "Train on 205060 samples, validate on 22785 samples\n",
      "Epoch 1/50\n",
      "205060/205060 [==============================] - 1s 3us/sample - loss: 0.2779 - acc: 0.9811 - f1_m: 0.0198 - precision_m: 0.0197 - recall_m: 0.0437 - val_loss: 0.0117 - val_acc: 0.9983 - val_f1_m: 0.0000e+00 - val_precision_m: 0.0000e+00 - val_recall_m: 0.0000e+00\n",
      "Epoch 2/50\n",
      "205060/205060 [==============================] - 0s 2us/sample - loss: 0.0113 - acc: 0.9983 - f1_m: 0.0000e+00 - precision_m: 0.0000e+00 - recall_m: 0.0000e+00 - val_loss: 0.0105 - val_acc: 0.9983 - val_f1_m: 0.0000e+00 - val_precision_m: 0.0000e+00 - val_recall_m: 0.0000e+00\n",
      "Epoch 3/50\n",
      "205060/205060 [==============================] - 0s 2us/sample - loss: 0.0098 - acc: 0.9983 - f1_m: 0.0000e+00 - precision_m: 0.0000e+00 - recall_m: 0.0000e+00 - val_loss: 0.0086 - val_acc: 0.9983 - val_f1_m: 0.0000e+00 - val_precision_m: 0.0000e+00 - val_recall_m: 0.0000e+00\n",
      "Epoch 4/50\n",
      "205060/205060 [==============================] - 0s 2us/sample - loss: 0.0079 - acc: 0.9984 - f1_m: 0.1099 - precision_m: 0.1553 - recall_m: 0.0946 - val_loss: 0.0065 - val_acc: 0.9986 - val_f1_m: 0.1812 - val_precision_m: 0.3043 - val_recall_m: 0.1304\n",
      "Epoch 5/50\n",
      "205060/205060 [==============================] - 0s 2us/sample - loss: 0.0061 - acc: 0.9987 - f1_m: 0.2798 - precision_m: 0.3706 - recall_m: 0.2410 - val_loss: 0.0052 - val_acc: 0.9988 - val_f1_m: 0.2804 - val_precision_m: 0.4348 - val_recall_m: 0.2196\n",
      "Epoch 6/50\n",
      "205060/205060 [==============================] - 0s 2us/sample - loss: 0.0051 - acc: 0.9988 - f1_m: 0.3681 - precision_m: 0.4984 - recall_m: 0.3148 - val_loss: 0.0044 - val_acc: 0.9989 - val_f1_m: 0.2636 - val_precision_m: 0.3768 - val_recall_m: 0.2072\n",
      "Epoch 7/50\n",
      "205060/205060 [==============================] - 0s 2us/sample - loss: 0.0046 - acc: 0.9990 - f1_m: 0.4802 - precision_m: 0.5854 - recall_m: 0.4388 - val_loss: 0.0042 - val_acc: 0.9992 - val_f1_m: 0.5623 - val_precision_m: 0.6594 - val_recall_m: 0.5290\n",
      "Epoch 8/50\n",
      "205060/205060 [==============================] - 0s 2us/sample - loss: 0.0043 - acc: 0.9992 - f1_m: 0.4990 - precision_m: 0.5724 - recall_m: 0.4800 - val_loss: 0.0039 - val_acc: 0.9993 - val_f1_m: 0.5673 - val_precision_m: 0.6014 - val_recall_m: 0.5652\n",
      "Epoch 9/50\n",
      "205060/205060 [==============================] - 0s 2us/sample - loss: 0.0042 - acc: 0.9992 - f1_m: 0.5550 - precision_m: 0.6343 - recall_m: 0.5336 - val_loss: 0.0063 - val_acc: 0.9995 - val_f1_m: 0.7068 - val_precision_m: 0.7536 - val_recall_m: 0.7159\n",
      "Epoch 10/50\n",
      "205060/205060 [==============================] - 0s 2us/sample - loss: 0.0041 - acc: 0.9992 - f1_m: 0.5570 - precision_m: 0.6323 - recall_m: 0.5287 - val_loss: 0.0041 - val_acc: 0.9993 - val_f1_m: 0.5656 - val_precision_m: 0.7029 - val_recall_m: 0.5000\n",
      "Epoch 11/50\n",
      "205060/205060 [==============================] - 0s 2us/sample - loss: 0.0040 - acc: 0.9992 - f1_m: 0.5625 - precision_m: 0.6274 - recall_m: 0.5401 - val_loss: 0.0040 - val_acc: 0.9993 - val_f1_m: 0.5684 - val_precision_m: 0.6196 - val_recall_m: 0.5486\n",
      "Epoch 12/50\n",
      "205060/205060 [==============================] - 0s 2us/sample - loss: 0.0040 - acc: 0.9993 - f1_m: 0.5580 - precision_m: 0.6245 - recall_m: 0.5408 - val_loss: 0.0039 - val_acc: 0.9993 - val_f1_m: 0.5463 - val_precision_m: 0.6159 - val_recall_m: 0.5116\n",
      "Epoch 13/50\n",
      "205060/205060 [==============================] - 0s 2us/sample - loss: 0.0039 - acc: 0.9993 - f1_m: 0.5764 - precision_m: 0.6392 - recall_m: 0.5568 - val_loss: 0.0136 - val_acc: 0.9991 - val_f1_m: 0.7161 - val_precision_m: 0.7101 - val_recall_m: 0.7870\n",
      "Epoch 14/50\n",
      "205060/205060 [==============================] - 0s 2us/sample - loss: 0.0039 - acc: 0.9993 - f1_m: 0.5905 - precision_m: 0.6598 - recall_m: 0.5685 - val_loss: 0.0041 - val_acc: 0.9993 - val_f1_m: 0.5539 - val_precision_m: 0.6348 - val_recall_m: 0.5181\n",
      "Epoch 15/50\n",
      "205060/205060 [==============================] - 0s 2us/sample - loss: 0.0038 - acc: 0.9993 - f1_m: 0.5786 - precision_m: 0.6358 - recall_m: 0.5611 - val_loss: 0.0038 - val_acc: 0.9993 - val_f1_m: 0.5880 - val_precision_m: 0.6522 - val_recall_m: 0.5761\n",
      "Epoch 16/50\n",
      "205060/205060 [==============================] - 0s 2us/sample - loss: 0.0037 - acc: 0.9993 - f1_m: 0.6008 - precision_m: 0.6803 - recall_m: 0.5701 - val_loss: 0.0036 - val_acc: 0.9993 - val_f1_m: 0.5896 - val_precision_m: 0.6725 - val_recall_m: 0.5507\n",
      "Epoch 17/50\n",
      "205060/205060 [==============================] - 0s 2us/sample - loss: 0.0037 - acc: 0.9993 - f1_m: 0.5783 - precision_m: 0.6493 - recall_m: 0.5514 - val_loss: 0.0037 - val_acc: 0.9993 - val_f1_m: 0.6399 - val_precision_m: 0.7065 - val_recall_m: 0.6051\n",
      "Epoch 18/50\n",
      "205060/205060 [==============================] - 0s 2us/sample - loss: 0.0037 - acc: 0.9993 - f1_m: 0.5932 - precision_m: 0.6478 - recall_m: 0.5838 - val_loss: 0.0037 - val_acc: 0.9993 - val_f1_m: 0.5532 - val_precision_m: 0.6217 - val_recall_m: 0.5239\n",
      "Epoch 19/50\n",
      "205060/205060 [==============================] - 0s 2us/sample - loss: 0.0037 - acc: 0.9993 - f1_m: 0.5926 - precision_m: 0.6477 - recall_m: 0.5781 - val_loss: 0.0037 - val_acc: 0.9993 - val_f1_m: 0.6076 - val_precision_m: 0.6522 - val_recall_m: 0.5812\n",
      "Epoch 20/50\n",
      "205060/205060 [==============================] - 0s 2us/sample - loss: 0.0036 - acc: 0.9993 - f1_m: 0.6021 - precision_m: 0.6532 - recall_m: 0.5972 - val_loss: 0.0038 - val_acc: 0.9993 - val_f1_m: 0.6460 - val_precision_m: 0.7174 - val_recall_m: 0.6341\n",
      "Epoch 21/50\n",
      "205060/205060 [==============================] - 0s 2us/sample - loss: 0.0036 - acc: 0.9993 - f1_m: 0.5951 - precision_m: 0.6486 - recall_m: 0.5809 - val_loss: 0.0036 - val_acc: 0.9994 - val_f1_m: 0.6039 - val_precision_m: 0.6449 - val_recall_m: 0.6145\n",
      "Epoch 22/50\n",
      "205060/205060 [==============================] - 0s 2us/sample - loss: 0.0035 - acc: 0.9993 - f1_m: 0.6170 - precision_m: 0.6804 - recall_m: 0.5982 - val_loss: 0.0036 - val_acc: 0.9993 - val_f1_m: 0.6123 - val_precision_m: 0.7174 - val_recall_m: 0.5732\n",
      "Epoch 23/50\n",
      "205060/205060 [==============================] - 0s 2us/sample - loss: 0.0035 - acc: 0.9993 - f1_m: 0.6403 - precision_m: 0.6977 - recall_m: 0.6288 - val_loss: 0.0040 - val_acc: 0.9993 - val_f1_m: 0.5765 - val_precision_m: 0.6087 - val_recall_m: 0.5594\n",
      "Epoch 24/50\n",
      "205060/205060 [==============================] - 0s 2us/sample - loss: 0.0035 - acc: 0.9993 - f1_m: 0.6187 - precision_m: 0.6826 - recall_m: 0.6078 - val_loss: 0.0036 - val_acc: 0.9994 - val_f1_m: 0.5619 - val_precision_m: 0.6051 - val_recall_m: 0.5507\n",
      "Epoch 25/50\n",
      "205060/205060 [==============================] - 0s 2us/sample - loss: 0.0034 - acc: 0.9993 - f1_m: 0.6205 - precision_m: 0.6665 - recall_m: 0.6135 - val_loss: 0.0035 - val_acc: 0.9993 - val_f1_m: 0.6325 - val_precision_m: 0.6667 - val_recall_m: 0.6377\n",
      "Epoch 26/50\n",
      "205060/205060 [==============================] - 0s 2us/sample - loss: 0.0034 - acc: 0.9993 - f1_m: 0.6053 - precision_m: 0.6554 - recall_m: 0.6029 - val_loss: 0.0035 - val_acc: 0.9994 - val_f1_m: 0.6273 - val_precision_m: 0.6884 - val_recall_m: 0.6152\n",
      "Epoch 27/50\n",
      "205060/205060 [==============================] - 0s 2us/sample - loss: 0.0034 - acc: 0.9993 - f1_m: 0.5713 - precision_m: 0.6305 - recall_m: 0.5588 - val_loss: 0.0035 - val_acc: 0.9994 - val_f1_m: 0.7435 - val_precision_m: 0.7754 - val_recall_m: 0.7754\n",
      "Epoch 28/50\n",
      "205060/205060 [==============================] - 0s 2us/sample - loss: 0.0033 - acc: 0.9993 - f1_m: 0.5873 - precision_m: 0.6328 - recall_m: 0.5750 - val_loss: 0.0034 - val_acc: 0.9994 - val_f1_m: 0.6271 - val_precision_m: 0.6812 - val_recall_m: 0.6217\n",
      "Epoch 29/50\n",
      "205060/205060 [==============================] - 0s 2us/sample - loss: 0.0033 - acc: 0.9993 - f1_m: 0.6231 - precision_m: 0.6774 - recall_m: 0.6106 - val_loss: 0.0035 - val_acc: 0.9994 - val_f1_m: 0.6539 - val_precision_m: 0.7290 - val_recall_m: 0.6413\n",
      "Epoch 30/50\n",
      "205060/205060 [==============================] - 0s 2us/sample - loss: 0.0033 - acc: 0.9993 - f1_m: 0.6245 - precision_m: 0.6505 - recall_m: 0.6337 - val_loss: 0.0034 - val_acc: 0.9993 - val_f1_m: 0.6210 - val_precision_m: 0.6558 - val_recall_m: 0.6203\n",
      "Epoch 31/50\n"
     ]
    },
    {
     "name": "stdout",
     "output_type": "stream",
     "text": [
      "205060/205060 [==============================] - 0s 2us/sample - loss: 0.0032 - acc: 0.9993 - f1_m: 0.5894 - precision_m: 0.6459 - recall_m: 0.5783 - val_loss: 0.0035 - val_acc: 0.9994 - val_f1_m: 0.5789 - val_precision_m: 0.6304 - val_recall_m: 0.5580\n",
      "Epoch 32/50\n",
      "205060/205060 [==============================] - 0s 2us/sample - loss: 0.0033 - acc: 0.9993 - f1_m: 0.5987 - precision_m: 0.6448 - recall_m: 0.6019 - val_loss: 0.0035 - val_acc: 0.9994 - val_f1_m: 0.6612 - val_precision_m: 0.7355 - val_recall_m: 0.6304\n",
      "Epoch 33/50\n",
      "205060/205060 [==============================] - 0s 2us/sample - loss: 0.0033 - acc: 0.9993 - f1_m: 0.6192 - precision_m: 0.6693 - recall_m: 0.6074 - val_loss: 0.0035 - val_acc: 0.9994 - val_f1_m: 0.5242 - val_precision_m: 0.6159 - val_recall_m: 0.4913\n",
      "Epoch 34/50\n",
      "205060/205060 [==============================] - 0s 2us/sample - loss: 0.0032 - acc: 0.9993 - f1_m: 0.6340 - precision_m: 0.6863 - recall_m: 0.6281 - val_loss: 0.0034 - val_acc: 0.9995 - val_f1_m: 0.6687 - val_precision_m: 0.7065 - val_recall_m: 0.6630\n",
      "Epoch 35/50\n",
      "205060/205060 [==============================] - 0s 2us/sample - loss: 0.0032 - acc: 0.9994 - f1_m: 0.6274 - precision_m: 0.6779 - recall_m: 0.6205 - val_loss: 0.0034 - val_acc: 0.9993 - val_f1_m: 0.6018 - val_precision_m: 0.6217 - val_recall_m: 0.6217\n",
      "Epoch 36/50\n",
      "205060/205060 [==============================] - 0s 2us/sample - loss: 0.0032 - acc: 0.9994 - f1_m: 0.6308 - precision_m: 0.6707 - recall_m: 0.6315 - val_loss: 0.0034 - val_acc: 0.9994 - val_f1_m: 0.7362 - val_precision_m: 0.7826 - val_recall_m: 0.7319\n",
      "Epoch 37/50\n",
      "205060/205060 [==============================] - 0s 2us/sample - loss: 0.0032 - acc: 0.9994 - f1_m: 0.6222 - precision_m: 0.6701 - recall_m: 0.6158 - val_loss: 0.0034 - val_acc: 0.9993 - val_f1_m: 0.6855 - val_precision_m: 0.7174 - val_recall_m: 0.7029\n",
      "Epoch 38/50\n",
      "205060/205060 [==============================] - 0s 2us/sample - loss: 0.0032 - acc: 0.9993 - f1_m: 0.6043 - precision_m: 0.6330 - recall_m: 0.6088 - val_loss: 0.0033 - val_acc: 0.9995 - val_f1_m: 0.6246 - val_precision_m: 0.6522 - val_recall_m: 0.6268\n",
      "Epoch 39/50\n",
      "205060/205060 [==============================] - 0s 2us/sample - loss: 0.0031 - acc: 0.9994 - f1_m: 0.6568 - precision_m: 0.6916 - recall_m: 0.6617 - val_loss: 0.0034 - val_acc: 0.9995 - val_f1_m: 0.6269 - val_precision_m: 0.6449 - val_recall_m: 0.6304\n",
      "Epoch 40/50\n",
      "205060/205060 [==============================] - 0s 2us/sample - loss: 0.0032 - acc: 0.9994 - f1_m: 0.6107 - precision_m: 0.6553 - recall_m: 0.6069 - val_loss: 0.0033 - val_acc: 0.9995 - val_f1_m: 0.5689 - val_precision_m: 0.6268 - val_recall_m: 0.5420\n",
      "Epoch 41/50\n",
      "205060/205060 [==============================] - 0s 2us/sample - loss: 0.0032 - acc: 0.9994 - f1_m: 0.6277 - precision_m: 0.6734 - recall_m: 0.6241 - val_loss: 0.0034 - val_acc: 0.9995 - val_f1_m: 0.6141 - val_precision_m: 0.6449 - val_recall_m: 0.6216\n",
      "Epoch 42/50\n",
      "205060/205060 [==============================] - 0s 2us/sample - loss: 0.0031 - acc: 0.9994 - f1_m: 0.6475 - precision_m: 0.6923 - recall_m: 0.6485 - val_loss: 0.0035 - val_acc: 0.9993 - val_f1_m: 0.5634 - val_precision_m: 0.6217 - val_recall_m: 0.5312\n",
      "Epoch 43/50\n",
      "205060/205060 [==============================] - 0s 2us/sample - loss: 0.0031 - acc: 0.9994 - f1_m: 0.6426 - precision_m: 0.6872 - recall_m: 0.6347 - val_loss: 0.0034 - val_acc: 0.9995 - val_f1_m: 0.6358 - val_precision_m: 0.6703 - val_recall_m: 0.6304\n",
      "Epoch 44/50\n",
      "205060/205060 [==============================] - 0s 2us/sample - loss: 0.0031 - acc: 0.9994 - f1_m: 0.6176 - precision_m: 0.6682 - recall_m: 0.6123 - val_loss: 0.0034 - val_acc: 0.9993 - val_f1_m: 0.6589 - val_precision_m: 0.6435 - val_recall_m: 0.6884\n",
      "Epoch 45/50\n",
      "205060/205060 [==============================] - 0s 2us/sample - loss: 0.0031 - acc: 0.9994 - f1_m: 0.6264 - precision_m: 0.6627 - recall_m: 0.6233 - val_loss: 0.0032 - val_acc: 0.9996 - val_f1_m: 0.7184 - val_precision_m: 0.7826 - val_recall_m: 0.7065\n",
      "Epoch 46/50\n",
      "205060/205060 [==============================] - 0s 2us/sample - loss: 0.0031 - acc: 0.9994 - f1_m: 0.6434 - precision_m: 0.6803 - recall_m: 0.6497 - val_loss: 0.0033 - val_acc: 0.9996 - val_f1_m: 0.7022 - val_precision_m: 0.7428 - val_recall_m: 0.6848\n",
      "Epoch 47/50\n",
      "205060/205060 [==============================] - 0s 2us/sample - loss: 0.0031 - acc: 0.9994 - f1_m: 0.6311 - precision_m: 0.6701 - recall_m: 0.6222 - val_loss: 0.0032 - val_acc: 0.9996 - val_f1_m: 0.7399 - val_precision_m: 0.7681 - val_recall_m: 0.7507\n",
      "Epoch 48/50\n",
      "205060/205060 [==============================] - 0s 2us/sample - loss: 0.0031 - acc: 0.9994 - f1_m: 0.6131 - precision_m: 0.6530 - recall_m: 0.6056 - val_loss: 0.0034 - val_acc: 0.9995 - val_f1_m: 0.7184 - val_precision_m: 0.7790 - val_recall_m: 0.7029\n",
      "Epoch 49/50\n",
      "205060/205060 [==============================] - 0s 2us/sample - loss: 0.0031 - acc: 0.9994 - f1_m: 0.6479 - precision_m: 0.6845 - recall_m: 0.6493 - val_loss: 0.0032 - val_acc: 0.9995 - val_f1_m: 0.6609 - val_precision_m: 0.6957 - val_recall_m: 0.6558\n",
      "Epoch 50/50\n",
      "205060/205060 [==============================] - 0s 2us/sample - loss: 0.0031 - acc: 0.9994 - f1_m: 0.6281 - precision_m: 0.6576 - recall_m: 0.6324 - val_loss: 0.0032 - val_acc: 0.9995 - val_f1_m: 0.6845 - val_precision_m: 0.7304 - val_recall_m: 0.6870\n"
     ]
    }
   ],
   "source": [
    "# fit the model\n",
    "history = model.fit(X_train, Y_train, validation_split=0.1, epochs=50, verbose=1,batch_size=1000)\n",
    "\n",
    "# evaluate the model\n",
    "loss, accuracy, f1_score, precision, recall = model.evaluate(X_test, Y_test, verbose=0)"
   ]
  },
  {
   "cell_type": "code",
   "execution_count": 19,
   "metadata": {},
   "outputs": [
    {
     "data": {
      "image/png": "[encoded data removed]",
      "text/plain": [
       "<Figure size 432x288 with 1 Axes>"
      ]
     },
     "metadata": {
      "image/png": {
       "height": 277,
       "width": 432
      },
      "needs_background": "light"
     },
     "output_type": "display_data"
    }
   ],
   "source": [
    "# Plot training & validation loss values\n",
    "plt.plot(history.history['loss'])\n",
    "plt.plot(history.history['val_loss'])\n",
    "plt.title('Model loss')\n",
    "plt.ylabel('Loss')\n",
    "plt.xlabel('Epoch')\n",
    "plt.legend(['Train', 'Test'], loc='upper left')\n",
    "plt.show()"
   ]
  },
  {
   "cell_type": "code",
   "execution_count": 20,
   "metadata": {},
   "outputs": [],
   "source": [
    "def plot_cm(labels, predictions, p=0.5):\n",
    "  cm = confusion_matrix(labels, predictions > p)\n",
    "  plt.figure(figsize=(5,5))\n",
    "  sns.heatmap(cm, annot=True, fmt=\"d\")\n",
    "  plt.title('Confusion matrix @{:.2f}'.format(p))\n",
    "  plt.ylabel('Actual label')\n",
    "  plt.xlabel('Predicted label')\n",
    "\n",
    "  print('Legitimate Transactions Detected (True Negatives): ', cm[0][0])\n",
    "  print('Legitimate Transactions Incorrectly Detected (False Positives): ', cm[0][1])\n",
    "  print('Fraudulent Transactions Missed (False Negatives): ', cm[1][0])\n",
    "  print('Fraudulent Transactions Detected (True Positives): ', cm[1][1])\n",
    "  print('Total Fraudulent Transactions: ', np.sum(cm[1]))"
   ]
  },
  {
   "cell_type": "code",
   "execution_count": 21,
   "metadata": {},
   "outputs": [],
   "source": [
    "train_predictions_baseline = model.predict(X_train, batch_size=1000)\n",
    "test_predictions_baseline = model.predict(X_test, batch_size=1000)"
   ]
  },
  {
   "cell_type": "code",
   "execution_count": 22,
   "metadata": {},
   "outputs": [],
   "source": [
    "import sklearn\n",
    "from sklearn.metrics import confusion_matrix, roc_auc_score, classification_report, roc_curve"
   ]
  },
  {
   "cell_type": "code",
   "execution_count": 23,
   "metadata": {},
   "outputs": [
    {
     "name": "stdout",
     "output_type": "stream",
     "text": [
      "Legitimate Transactions Detected (True Negatives):  56852\n",
      "Legitimate Transactions Incorrectly Detected (False Positives):  12\n",
      "Fraudulent Transactions Missed (False Negatives):  30\n",
      "Fraudulent Transactions Detected (True Positives):  68\n",
      "Total Fraudulent Transactions:  98\n"
     ]
    },
    {
     "data": {
      "image/png": "[encoded data removed]",
      "text/plain": [
       "<Figure size 360x360 with 2 Axes>"
      ]
     },
     "metadata": {
      "image/png": {
       "height": 332,
       "width": 358
      },
      "needs_background": "light"
     },
     "output_type": "display_data"
    }
   ],
   "source": [
    "plot_cm(Y_test, test_predictions_baseline)"
   ]
  },
  {
   "cell_type": "code",
   "execution_count": 24,
   "metadata": {},
   "outputs": [
    {
     "name": "stdout",
     "output_type": "stream",
     "text": [
      "              precision    recall  f1-score   support\n",
      "\n",
      "           0       1.00      1.00      1.00     56864\n",
      "           1       0.85      0.69      0.76        98\n",
      "\n",
      "    accuracy                           1.00     56962\n",
      "   macro avg       0.92      0.85      0.88     56962\n",
      "weighted avg       1.00      1.00      1.00     56962\n",
      "\n"
     ]
    }
   ],
   "source": [
    "print(classification_report(Y_test,test_predictions_baseline>0.5))"
   ]
  },
  {
   "cell_type": "code",
   "execution_count": 25,
   "metadata": {},
   "outputs": [
    {
     "name": "stdout",
     "output_type": "stream",
     "text": [
      "0.8468332605974297\n"
     ]
    }
   ],
   "source": [
    "print(roc_auc_score(Y_test,test_predictions_baseline>0.5))"
   ]
  },
  {
   "cell_type": "markdown",
   "metadata": {},
   "source": [
    "## 7.6 - Handling Class Imbalance"
   ]
  },
  {
   "cell_type": "markdown",
   "metadata": {},
   "source": [
    "#### Increase class weight of positive instances"
   ]
  },
  {
   "cell_type": "code",
   "execution_count": 42,
   "metadata": {},
   "outputs": [
    {
     "name": "stdout",
     "output_type": "stream",
     "text": [
      "Weight for class 0: 0.50\n",
      "Weight for class 1: 289.44\n"
     ]
    }
   ],
   "source": [
    "# Scaling by total/2 helps keep the loss to a similar magnitude.\n",
    "# The sum of the weights of all examples stays the same.\n",
    "neg, pos = np.bincount(credit_df['Class'])\n",
    "total = neg + pos\n",
    "weight_for_0 = (1 / neg)*(total)/2.0 \n",
    "weight_for_1 = (1 / pos)*(total)/2.0\n",
    "\n",
    "class_weight = {0: weight_for_0, 1: weight_for_1}\n",
    "\n",
    "print('Weight for class 0: {:.2f}'.format(weight_for_0))\n",
    "print('Weight for class 1: {:.2f}'.format(weight_for_1))"
   ]
  },
  {
   "cell_type": "code",
   "execution_count": 43,
   "metadata": {
    "scrolled": true
   },
   "outputs": [
    {
     "name": "stdout",
     "output_type": "stream",
     "text": [
      "Model: \"sequential_2\"\n",
      "_________________________________________________________________\n",
      "Layer (type)                 Output Shape              Param #   \n",
      "=================================================================\n",
      "dense_8 (Dense)              (None, 30)                930       \n",
      "_________________________________________________________________\n",
      "dense_9 (Dense)              (None, 15)                465       \n",
      "_________________________________________________________________\n",
      "dense_10 (Dense)             (None, 5)                 80        \n",
      "_________________________________________________________________\n",
      "dense_11 (Dense)             (None, 1)                 6         \n",
      "=================================================================\n",
      "Total params: 1,481\n",
      "Trainable params: 1,481\n",
      "Non-trainable params: 0\n",
      "_________________________________________________________________\n",
      "None\n",
      "Train on 205060 samples, validate on 22785 samples\n",
      "Epoch 1/50\n",
      "205060/205060 [==============================] - ETA: 0s - loss: 0.5699 - acc: 0.7822 - f1_m: 0.1935 - precision_m: 0.1566 - recall_m: 0.7556       - 1s 3us/sample - loss: 0.5701 - acc: 0.7908 - f1_m: 0.1962 - precision_m: 0.1584 - recall_m: 0.7569 - val_loss: 0.4558 - val_acc: 0.9985 - val_f1_m: 0.5547 - val_precision_m: 0.4696 - val_recall_m: 0.7268\n",
      "Epoch 2/50\n",
      "205060/205060 [==============================] - 0s 2us/sample - loss: 0.3804 - acc: 0.9885 - f1_m: 0.4376 - precision_m: 0.3905 - recall_m: 0.6646 - val_loss: 0.3037 - val_acc: 0.9986 - val_f1_m: 0.6060 - val_precision_m: 0.5804 - val_recall_m: 0.6848\n",
      "Epoch 3/50\n",
      "205060/205060 [==============================] - 0s 2us/sample - loss: 0.2805 - acc: 0.9905 - f1_m: 0.4526 - precision_m: 0.4104 - recall_m: 0.6857 - val_loss: 0.2425 - val_acc: 0.9975 - val_f1_m: 0.4744 - val_precision_m: 0.3849 - val_recall_m: 0.7428\n",
      "Epoch 4/50\n",
      "205060/205060 [==============================] - 0s 2us/sample - loss: 0.2447 - acc: 0.9910 - f1_m: 0.3627 - precision_m: 0.2953 - recall_m: 0.6682 - val_loss: 0.2255 - val_acc: 0.9975 - val_f1_m: 0.5202 - val_precision_m: 0.4370 - val_recall_m: 0.7319\n",
      "Epoch 5/50\n",
      "205060/205060 [==============================] - 0s 2us/sample - loss: 0.2199 - acc: 0.9883 - f1_m: 0.3468 - precision_m: 0.2739 - recall_m: 0.7037 - val_loss: 0.4886 - val_acc: 0.3125 - val_f1_m: 0.0049 - val_precision_m: 0.0025 - val_recall_m: 0.8696\n",
      "Epoch 6/50\n",
      "205060/205060 [==============================] - 0s 2us/sample - loss: 0.2127 - acc: 0.9727 - f1_m: 0.2711 - precision_m: 0.2017 - recall_m: 0.7235 - val_loss: 0.1950 - val_acc: 0.9802 - val_f1_m: 0.1233 - val_precision_m: 0.0702 - val_recall_m: 0.6870\n",
      "Epoch 7/50\n",
      "205060/205060 [==============================] - 0s 2us/sample - loss: 0.1975 - acc: 0.9808 - f1_m: 0.2875 - precision_m: 0.2225 - recall_m: 0.6982 - val_loss: 0.2767 - val_acc: 0.8248 - val_f1_m: 0.0187 - val_precision_m: 0.0095 - val_recall_m: 0.8116\n",
      "Epoch 8/50\n",
      "205060/205060 [==============================] - 0s 2us/sample - loss: 0.1939 - acc: 0.9746 - f1_m: 0.2399 - precision_m: 0.1710 - recall_m: 0.7280 - val_loss: 0.1981 - val_acc: 0.9943 - val_f1_m: 0.3110 - val_precision_m: 0.2091 - val_recall_m: 0.7000\n",
      "Epoch 9/50\n",
      "205060/205060 [==============================] - 0s 2us/sample - loss: 0.1902 - acc: 0.9803 - f1_m: 0.2540 - precision_m: 0.1910 - recall_m: 0.6841 - val_loss: 0.1817 - val_acc: 0.9771 - val_f1_m: 0.1090 - val_precision_m: 0.0597 - val_recall_m: 0.7377\n",
      "Epoch 10/50\n",
      "205060/205060 [==============================] - 0s 2us/sample - loss: 0.1884 - acc: 0.9764 - f1_m: 0.2269 - precision_m: 0.1530 - recall_m: 0.7320 - val_loss: 0.1992 - val_acc: 0.9925 - val_f1_m: 0.2694 - val_precision_m: 0.1709 - val_recall_m: 0.7717\n",
      "Epoch 11/50\n",
      "205060/205060 [==============================] - 0s 2us/sample - loss: 0.1792 - acc: 0.9757 - f1_m: 0.2459 - precision_m: 0.1739 - recall_m: 0.7523 - val_loss: 0.1952 - val_acc: 0.9913 - val_f1_m: 0.2179 - val_precision_m: 0.1409 - val_recall_m: 0.6196\n",
      "Epoch 12/50\n",
      "205060/205060 [==============================] - 0s 2us/sample - loss: 0.1732 - acc: 0.9683 - f1_m: 0.2140 - precision_m: 0.1477 - recall_m: 0.7483 - val_loss: 0.1989 - val_acc: 0.9911 - val_f1_m: 0.2431 - val_precision_m: 0.1492 - val_recall_m: 0.7428\n",
      "Epoch 13/50\n",
      "205060/205060 [==============================] - 0s 2us/sample - loss: 0.1781 - acc: 0.9736 - f1_m: 0.2139 - precision_m: 0.1460 - recall_m: 0.7018 - val_loss: 0.1838 - val_acc: 0.9628 - val_f1_m: 0.0732 - val_precision_m: 0.0390 - val_recall_m: 0.7935\n",
      "Epoch 14/50\n",
      "205060/205060 [==============================] - 0s 2us/sample - loss: 0.1721 - acc: 0.9743 - f1_m: 0.2285 - precision_m: 0.1574 - recall_m: 0.7678 - val_loss: 0.2583 - val_acc: 0.9970 - val_f1_m: 0.4714 - val_precision_m: 0.3711 - val_recall_m: 0.7725\n",
      "Epoch 15/50\n",
      "205060/205060 [==============================] - 0s 2us/sample - loss: 0.1699 - acc: 0.9748 - f1_m: 0.2165 - precision_m: 0.1458 - recall_m: 0.7325 - val_loss: 0.1805 - val_acc: 0.9649 - val_f1_m: 0.0816 - val_precision_m: 0.0438 - val_recall_m: 0.7246\n",
      "Epoch 16/50\n",
      "205060/205060 [==============================] - 0s 2us/sample - loss: 0.1747 - acc: 0.9761 - f1_m: 0.2058 - precision_m: 0.1365 - recall_m: 0.7064 - val_loss: 0.1893 - val_acc: 0.9866 - val_f1_m: 0.1664 - val_precision_m: 0.0970 - val_recall_m: 0.6667\n",
      "Epoch 17/50\n",
      "205060/205060 [==============================] - 0s 2us/sample - loss: 0.1809 - acc: 0.9746 - f1_m: 0.2021 - precision_m: 0.1342 - recall_m: 0.7351 - val_loss: 0.1838 - val_acc: 0.9697 - val_f1_m: 0.0872 - val_precision_m: 0.0473 - val_recall_m: 0.7014\n",
      "Epoch 18/50\n",
      "205060/205060 [==============================] - 0s 2us/sample - loss: 0.1749 - acc: 0.9723 - f1_m: 0.2045 - precision_m: 0.1315 - recall_m: 0.7758 - val_loss: 0.1843 - val_acc: 0.9703 - val_f1_m: 0.0847 - val_precision_m: 0.0459 - val_recall_m: 0.6304\n",
      "Epoch 19/50\n",
      "205060/205060 [==============================] - 0s 2us/sample - loss: 0.1679 - acc: 0.9693 - f1_m: 0.2091 - precision_m: 0.1395 - recall_m: 0.7494 - val_loss: 0.1851 - val_acc: 0.9728 - val_f1_m: 0.0977 - val_precision_m: 0.0535 - val_recall_m: 0.7101\n",
      "Epoch 20/50\n",
      "205060/205060 [==============================] - 0s 2us/sample - loss: 0.1778 - acc: 0.9722 - f1_m: 0.1596 - precision_m: 0.0999 - recall_m: 0.7446 - val_loss: 0.2420 - val_acc: 0.9954 - val_f1_m: 0.3831 - val_precision_m: 0.2822 - val_recall_m: 0.7101\n",
      "Epoch 21/50\n",
      "205060/205060 [==============================] - 0s 2us/sample - loss: 0.1754 - acc: 0.9701 - f1_m: 0.1920 - precision_m: 0.1285 - recall_m: 0.7387 - val_loss: 0.2140 - val_acc: 0.9916 - val_f1_m: 0.2260 - val_precision_m: 0.1446 - val_recall_m: 0.6413\n",
      "Epoch 22/50\n",
      "205060/205060 [==============================] - 0s 2us/sample - loss: 0.1731 - acc: 0.9702 - f1_m: 0.1746 - precision_m: 0.1089 - recall_m: 0.7272 - val_loss: 0.1863 - val_acc: 0.9452 - val_f1_m: 0.0510 - val_precision_m: 0.0268 - val_recall_m: 0.6377\n",
      "Epoch 23/50\n",
      "205060/205060 [==============================] - 0s 2us/sample - loss: 0.1758 - acc: 0.9749 - f1_m: 0.1746 - precision_m: 0.1095 - recall_m: 0.7303 - val_loss: 0.2198 - val_acc: 0.9938 - val_f1_m: 0.3010 - val_precision_m: 0.2052 - val_recall_m: 0.7536\n",
      "Epoch 24/50\n",
      "205060/205060 [==============================] - 0s 2us/sample - loss: 0.1751 - acc: 0.9741 - f1_m: 0.1885 - precision_m: 0.1225 - recall_m: 0.7493 - val_loss: 0.2007 - val_acc: 0.9859 - val_f1_m: 0.1690 - val_precision_m: 0.0986 - val_recall_m: 0.7246\n",
      "Epoch 25/50\n",
      "205060/205060 [==============================] - 0s 2us/sample - loss: 0.1768 - acc: 0.9724 - f1_m: 0.1678 - precision_m: 0.1042 - recall_m: 0.7262 - val_loss: 0.2369 - val_acc: 0.9952 - val_f1_m: 0.3489 - val_precision_m: 0.2398 - val_recall_m: 0.7609\n",
      "Epoch 26/50\n",
      "205060/205060 [==============================] - 0s 2us/sample - loss: 0.1803 - acc: 0.9756 - f1_m: 0.1879 - precision_m: 0.1211 - recall_m: 0.7413 - val_loss: 0.1917 - val_acc: 0.9824 - val_f1_m: 0.1361 - val_precision_m: 0.0773 - val_recall_m: 0.7355\n",
      "Epoch 27/50\n",
      "205060/205060 [==============================] - 0s 2us/sample - loss: 0.1703 - acc: 0.9744 - f1_m: 0.1777 - precision_m: 0.1147 - recall_m: 0.7067 - val_loss: 0.2215 - val_acc: 0.9931 - val_f1_m: 0.2851 - val_precision_m: 0.1912 - val_recall_m: 0.6522\n",
      "Epoch 28/50\n"
     ]
    },
    {
     "name": "stdout",
     "output_type": "stream",
     "text": [
      "205060/205060 [==============================] - 0s 2us/sample - loss: 0.1769 - acc: 0.9747 - f1_m: 0.1841 - precision_m: 0.1173 - recall_m: 0.7584 - val_loss: 0.1893 - val_acc: 0.9642 - val_f1_m: 0.0738 - val_precision_m: 0.0393 - val_recall_m: 0.7246\n",
      "Epoch 29/50\n",
      "205060/205060 [==============================] - 0s 2us/sample - loss: 0.1694 - acc: 0.9726 - f1_m: 0.1836 - precision_m: 0.1169 - recall_m: 0.7364 - val_loss: 0.2082 - val_acc: 0.9942 - val_f1_m: 0.2918 - val_precision_m: 0.1930 - val_recall_m: 0.7039\n",
      "Epoch 30/50\n",
      "205060/205060 [==============================] - 0s 2us/sample - loss: 0.1701 - acc: 0.9750 - f1_m: 0.2099 - precision_m: 0.1390 - recall_m: 0.7388 - val_loss: 0.2258 - val_acc: 0.9957 - val_f1_m: 0.3914 - val_precision_m: 0.2946 - val_recall_m: 0.7283\n",
      "Epoch 31/50\n",
      "205060/205060 [==============================] - 0s 2us/sample - loss: 0.1671 - acc: 0.9742 - f1_m: 0.1901 - precision_m: 0.1258 - recall_m: 0.7362 - val_loss: 0.2343 - val_acc: 0.9962 - val_f1_m: 0.3538 - val_precision_m: 0.2764 - val_recall_m: 0.6304\n",
      "Epoch 32/50\n",
      "205060/205060 [==============================] - 0s 2us/sample - loss: 0.1711 - acc: 0.9746 - f1_m: 0.1980 - precision_m: 0.1293 - recall_m: 0.7386 - val_loss: 0.1921 - val_acc: 0.9510 - val_f1_m: 0.0547 - val_precision_m: 0.0287 - val_recall_m: 0.6667\n",
      "Epoch 33/50\n",
      "205060/205060 [==============================] - 0s 2us/sample - loss: 0.1700 - acc: 0.9705 - f1_m: 0.1899 - precision_m: 0.1275 - recall_m: 0.7595 - val_loss: 0.2633 - val_acc: 0.9974 - val_f1_m: 0.4694 - val_precision_m: 0.3711 - val_recall_m: 0.6957\n",
      "Epoch 34/50\n",
      "205060/205060 [==============================] - 0s 2us/sample - loss: 0.1720 - acc: 0.9763 - f1_m: 0.2111 - precision_m: 0.1457 - recall_m: 0.7383 - val_loss: 0.2007 - val_acc: 0.9928 - val_f1_m: 0.2745 - val_precision_m: 0.1700 - val_recall_m: 0.8116\n",
      "Epoch 35/50\n",
      "205060/205060 [==============================] - 0s 2us/sample - loss: 0.1686 - acc: 0.9788 - f1_m: 0.1981 - precision_m: 0.1295 - recall_m: 0.7025 - val_loss: 0.2174 - val_acc: 0.9962 - val_f1_m: 0.4142 - val_precision_m: 0.3162 - val_recall_m: 0.7304\n",
      "Epoch 36/50\n",
      "205060/205060 [==============================] - 0s 2us/sample - loss: 0.1669 - acc: 0.9738 - f1_m: 0.2043 - precision_m: 0.1385 - recall_m: 0.7381 - val_loss: 0.2115 - val_acc: 0.9932 - val_f1_m: 0.2865 - val_precision_m: 0.2005 - val_recall_m: 0.6797\n",
      "Epoch 37/50\n",
      "205060/205060 [==============================] - 0s 2us/sample - loss: 0.1718 - acc: 0.9781 - f1_m: 0.2254 - precision_m: 0.1589 - recall_m: 0.7475 - val_loss: 0.1975 - val_acc: 0.9925 - val_f1_m: 0.2727 - val_precision_m: 0.1764 - val_recall_m: 0.7717\n",
      "Epoch 38/50\n",
      "205060/205060 [==============================] - 0s 2us/sample - loss: 0.1721 - acc: 0.9790 - f1_m: 0.1972 - precision_m: 0.1274 - recall_m: 0.7265 - val_loss: 0.1934 - val_acc: 0.9924 - val_f1_m: 0.2673 - val_precision_m: 0.1686 - val_recall_m: 0.7594\n",
      "Epoch 39/50\n",
      "205060/205060 [==============================] - 0s 2us/sample - loss: 0.1690 - acc: 0.9776 - f1_m: 0.2065 - precision_m: 0.1387 - recall_m: 0.7450 - val_loss: 0.2039 - val_acc: 0.9939 - val_f1_m: 0.3192 - val_precision_m: 0.2087 - val_recall_m: 0.7826\n",
      "Epoch 40/50\n",
      "205060/205060 [==============================] - 0s 2us/sample - loss: 0.1676 - acc: 0.9787 - f1_m: 0.2293 - precision_m: 0.1578 - recall_m: 0.7108 - val_loss: 0.1922 - val_acc: 0.9907 - val_f1_m: 0.2308 - val_precision_m: 0.1487 - val_recall_m: 0.6630\n",
      "Epoch 41/50\n",
      "205060/205060 [==============================] - 0s 2us/sample - loss: 0.1624 - acc: 0.9780 - f1_m: 0.2336 - precision_m: 0.1613 - recall_m: 0.7216 - val_loss: 0.1825 - val_acc: 0.9695 - val_f1_m: 0.0908 - val_precision_m: 0.0491 - val_recall_m: 0.7957\n",
      "Epoch 42/50\n",
      "205060/205060 [==============================] - 0s 2us/sample - loss: 0.1631 - acc: 0.9770 - f1_m: 0.2146 - precision_m: 0.1467 - recall_m: 0.7101 - val_loss: 0.2057 - val_acc: 0.9938 - val_f1_m: 0.3019 - val_precision_m: 0.2051 - val_recall_m: 0.7319\n",
      "Epoch 43/50\n",
      "205060/205060 [==============================] - 0s 2us/sample - loss: 0.1677 - acc: 0.9797 - f1_m: 0.2101 - precision_m: 0.1429 - recall_m: 0.7346 - val_loss: 0.1981 - val_acc: 0.9912 - val_f1_m: 0.2559 - val_precision_m: 0.1556 - val_recall_m: 0.8333\n",
      "Epoch 44/50\n",
      "205060/205060 [==============================] - 0s 2us/sample - loss: 0.1660 - acc: 0.9779 - f1_m: 0.2140 - precision_m: 0.1431 - recall_m: 0.7423 - val_loss: 0.1970 - val_acc: 0.9923 - val_f1_m: 0.2732 - val_precision_m: 0.1705 - val_recall_m: 0.8188\n",
      "Epoch 45/50\n",
      "205060/205060 [==============================] - 0s 2us/sample - loss: 0.1681 - acc: 0.9750 - f1_m: 0.1755 - precision_m: 0.1096 - recall_m: 0.7537 - val_loss: 0.2028 - val_acc: 0.9933 - val_f1_m: 0.2711 - val_precision_m: 0.1769 - val_recall_m: 0.6594\n",
      "Epoch 46/50\n",
      "205060/205060 [==============================] - 0s 2us/sample - loss: 0.1566 - acc: 0.9718 - f1_m: 0.2268 - precision_m: 0.1560 - recall_m: 0.7541 - val_loss: 0.2224 - val_acc: 0.9939 - val_f1_m: 0.2847 - val_precision_m: 0.1879 - val_recall_m: 0.6688\n",
      "Epoch 47/50\n",
      "205060/205060 [==============================] - 0s 2us/sample - loss: 0.1625 - acc: 0.9755 - f1_m: 0.1991 - precision_m: 0.1339 - recall_m: 0.7423 - val_loss: 0.2481 - val_acc: 0.9967 - val_f1_m: 0.4163 - val_precision_m: 0.3447 - val_recall_m: 0.6159\n",
      "Epoch 48/50\n",
      "205060/205060 [==============================] - 0s 2us/sample - loss: 0.1672 - acc: 0.9776 - f1_m: 0.1974 - precision_m: 0.1277 - recall_m: 0.7607 - val_loss: 0.1846 - val_acc: 0.9859 - val_f1_m: 0.1691 - val_precision_m: 0.0971 - val_recall_m: 0.7536\n",
      "Epoch 49/50\n",
      "205060/205060 [==============================] - 0s 2us/sample - loss: 0.1643 - acc: 0.9768 - f1_m: 0.2017 - precision_m: 0.1328 - recall_m: 0.7266 - val_loss: 0.1824 - val_acc: 0.9817 - val_f1_m: 0.1329 - val_precision_m: 0.0756 - val_recall_m: 0.6696\n",
      "Epoch 50/50\n",
      "205060/205060 [==============================] - 0s 2us/sample - loss: 0.1686 - acc: 0.9749 - f1_m: 0.1801 - precision_m: 0.1124 - recall_m: 0.7598 - val_loss: 0.1850 - val_acc: 0.9833 - val_f1_m: 0.1559 - val_precision_m: 0.0889 - val_recall_m: 0.8116\n"
     ]
    }
   ],
   "source": [
    "weighted_model = get_model()\n",
    "\n",
    "# compile the model\n",
    "weighted_model.compile(optimizer='RMSProp', loss='binary_crossentropy', metrics=['acc',f1_m,precision_m, recall_m])\n",
    "\n",
    "# fit the model\n",
    "history = weighted_model.fit(X_train, Y_train, validation_split=0.1, epochs=50, verbose=1,batch_size=1000, class_weight=class_weight)\n",
    "\n",
    "# evaluate the model\n",
    "loss, accuracy, f1_score, precision, recall = weighted_model.evaluate(X_test, Y_test, verbose=0)"
   ]
  },
  {
   "cell_type": "markdown",
   "metadata": {},
   "source": [
    "## 7.7 - Evaluate the final model and predict fraud using the model"
   ]
  },
  {
   "cell_type": "code",
   "execution_count": 44,
   "metadata": {},
   "outputs": [
    {
     "data": {
      "image/png": "[encoded data removed]",
      "text/plain": [
       "<Figure size 432x288 with 1 Axes>"
      ]
     },
     "metadata": {
      "image/png": {
       "height": 277,
       "width": 425
      },
      "needs_background": "light"
     },
     "output_type": "display_data"
    }
   ],
   "source": [
    "# Plot training & validation loss values\n",
    "plt.plot(history.history['loss'])\n",
    "plt.plot(history.history['val_loss'])\n",
    "plt.title('Model loss')\n",
    "plt.ylabel('Loss')\n",
    "plt.xlabel('Epoch')\n",
    "plt.legend(['Train', 'Test'], loc='upper left')\n",
    "plt.show()"
   ]
  },
  {
   "cell_type": "code",
   "execution_count": 53,
   "metadata": {},
   "outputs": [],
   "source": [
    "def find_optimal_cutoff(target, predicted):\n",
    "    \"\"\" Find the optimal probability cutoff point for a classification model related to event rate\n",
    "    Parameters\n",
    "    ----------\n",
    "    target : Matrix with dependent or target data, where rows are observations\n",
    "\n",
    "    predicted : Matrix with predicted data, where rows are observations\n",
    "\n",
    "    Returns\n",
    "    -------     \n",
    "    list type, with optimal cutoff value\n",
    "\n",
    "    \"\"\"\n",
    "    fpr, tpr, threshold = roc_curve(target, predicted)\n",
    "    i = np.arange(len(tpr)) \n",
    "    roc = pd.DataFrame({'tf' : pd.Series(tpr-(1-fpr), index=i), 'threshold' : pd.Series(threshold, index=i)})\n",
    "    roc_t = roc.iloc[(roc.tf-0).abs().argsort()[:1]]\n",
    "    # Plot tpr vs 1-fpr\n",
    "    fig, ax = plt.subplots()\n",
    "    plt.plot(tpr)\n",
    "    plt.plot(1-fpr, color = 'red')\n",
    "    plt.xlabel('1-False Positive Rate')\n",
    "    plt.ylabel('True Positive Rate')\n",
    "    plt.title('Receiver operating characteristic')\n",
    "    ax.set_xticklabels([])\n",
    "    return list(roc_t['threshold']) "
   ]
  },
  {
   "cell_type": "code",
   "execution_count": 54,
   "metadata": {},
   "outputs": [],
   "source": [
    "test_predictions_weighted = weighted_model.predict(X_test, batch_size=1000)"
   ]
  },
  {
   "cell_type": "code",
   "execution_count": 55,
   "metadata": {},
   "outputs": [
    {
     "data": {
      "text/plain": [
       "[0.20962876081466675]"
      ]
     },
     "execution_count": 55,
     "metadata": {},
     "output_type": "execute_result"
    },
    {
     "data": {
      "image/png": "[encoded data removed]",
      "text/plain": [
       "<Figure size 432x288 with 1 Axes>"
      ]
     },
     "metadata": {
      "image/png": {
       "height": 268,
       "width": 425
      },
      "needs_background": "light"
     },
     "output_type": "display_data"
    }
   ],
   "source": [
    "find_optimal_cutoff(Y_test, test_predictions_weighted)"
   ]
  },
  {
   "cell_type": "code",
   "execution_count": 48,
   "metadata": {},
   "outputs": [
    {
     "name": "stdout",
     "output_type": "stream",
     "text": [
      "Legitimate Transactions Detected (True Negatives):  51911\n",
      "Legitimate Transactions Incorrectly Detected (False Positives):  4953\n",
      "Fraudulent Transactions Missed (False Negatives):  9\n",
      "Fraudulent Transactions Detected (True Positives):  89\n",
      "Total Fraudulent Transactions:  98\n"
     ]
    },
    {
     "data": {
      "image/png": "[encoded data removed]",
      "text/plain": [
       "<Figure size 360x360 with 2 Axes>"
      ]
     },
     "metadata": {
      "image/png": {
       "height": 332,
       "width": 358
      },
      "needs_background": "light"
     },
     "output_type": "display_data"
    }
   ],
   "source": [
    "plot_cm(Y_test, test_predictions_weighted, p=0.21)"
   ]
  },
  {
   "cell_type": "code",
   "execution_count": 49,
   "metadata": {},
   "outputs": [
    {
     "name": "stdout",
     "output_type": "stream",
     "text": [
      "              precision    recall  f1-score   support\n",
      "\n",
      "           0       1.00      0.91      0.95     56864\n",
      "           1       0.02      0.91      0.03        98\n",
      "\n",
      "    accuracy                           0.91     56962\n",
      "   macro avg       0.51      0.91      0.49     56962\n",
      "weighted avg       1.00      0.91      0.95     56962\n",
      "\n"
     ]
    }
   ],
   "source": [
    "print(classification_report(Y_test, test_predictions_weighted>0.21))"
   ]
  },
  {
   "cell_type": "code",
   "execution_count": 50,
   "metadata": {},
   "outputs": [
    {
     "data": {
      "text/plain": [
       "0.9105303524054529"
      ]
     },
     "execution_count": 50,
     "metadata": {},
     "output_type": "execute_result"
    }
   ],
   "source": [
    "roc_auc_score(Y_test, test_predictions_weighted>0.21)"
   ]
  },
  {
   "cell_type": "code",
   "execution_count": null,
   "metadata": {},
   "outputs": [],
   "source": []
  }
 ],
 "metadata": {
  "kernelspec": {
   "display_name": "Python 3",
   "language": "python",
   "name": "python3"
  },
  "language_info": {
   "codemirror_mode": {
    "name": "ipython",
    "version": 3
   },
   "file_extension": ".py",
   "mimetype": "text/x-python",
   "name": "python",
   "nbconvert_exporter": "python",
   "pygments_lexer": "ipython3",
   "version": "3.6.8"
  }
 },
 "nbformat": 4,
 "nbformat_minor": 2
}
